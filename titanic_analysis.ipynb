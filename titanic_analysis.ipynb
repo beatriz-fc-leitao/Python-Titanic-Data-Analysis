{
 "cells": [
  {
   "cell_type": "markdown",
   "metadata": {
    "slideshow": {
     "slide_type": "slide"
    },
    "tags": []
   },
   "source": [
    "# Titanic Dataset Analysis"
   ]
  },
  {
   "cell_type": "markdown",
   "metadata": {
    "slideshow": {
     "slide_type": "slide"
    },
    "tags": []
   },
   "source": [
    "# Set Up"
   ]
  },
  {
   "cell_type": "code",
   "execution_count": 1,
   "metadata": {
    "id": "OuSESEQRz9wc",
    "tags": []
   },
   "outputs": [],
   "source": [
    "#importing necessary libraries\n",
    "import pandas as pd\n",
    "import numpy as np\n",
    "from collections import Counter"
   ]
  },
  {
   "cell_type": "code",
   "execution_count": 2,
   "metadata": {
    "id": "9kcSDfSs0CgI",
    "tags": []
   },
   "outputs": [],
   "source": [
    "#reading csv\n",
    "df = pd.read_csv(\"titanic.csv\", index_col=\"PassengerId\")"
   ]
  },
  {
   "cell_type": "markdown",
   "metadata": {
    "id": "qWf6A16A1-nW",
    "slideshow": {
     "slide_type": "slide"
    },
    "tags": []
   },
   "source": [
    "# Using Pandas methods to explore the dataset"
   ]
  },
  {
   "cell_type": "code",
   "execution_count": 3,
   "metadata": {
    "colab": {
     "base_uri": "https://localhost:8080/",
     "height": 238
    },
    "id": "B1-qfXUP0fti",
    "outputId": "6e2d25cc-3726-40a2-a58c-8b768d8a241c",
    "slideshow": {
     "slide_type": "subslide"
    },
    "tags": []
   },
   "outputs": [
    {
     "data": {
      "text/html": [
       "<div>\n",
       "<style scoped>\n",
       "    .dataframe tbody tr th:only-of-type {\n",
       "        vertical-align: middle;\n",
       "    }\n",
       "\n",
       "    .dataframe tbody tr th {\n",
       "        vertical-align: top;\n",
       "    }\n",
       "\n",
       "    .dataframe thead th {\n",
       "        text-align: right;\n",
       "    }\n",
       "</style>\n",
       "<table border=\"1\" class=\"dataframe\">\n",
       "  <thead>\n",
       "    <tr style=\"text-align: right;\">\n",
       "      <th></th>\n",
       "      <th>Survived</th>\n",
       "      <th>Pclass</th>\n",
       "      <th>Name</th>\n",
       "      <th>Sex</th>\n",
       "      <th>Age</th>\n",
       "      <th>SibSp</th>\n",
       "      <th>Parch</th>\n",
       "      <th>Ticket</th>\n",
       "      <th>Fare</th>\n",
       "      <th>Cabin</th>\n",
       "      <th>Embarked</th>\n",
       "    </tr>\n",
       "    <tr>\n",
       "      <th>PassengerId</th>\n",
       "      <th></th>\n",
       "      <th></th>\n",
       "      <th></th>\n",
       "      <th></th>\n",
       "      <th></th>\n",
       "      <th></th>\n",
       "      <th></th>\n",
       "      <th></th>\n",
       "      <th></th>\n",
       "      <th></th>\n",
       "      <th></th>\n",
       "    </tr>\n",
       "  </thead>\n",
       "  <tbody>\n",
       "    <tr>\n",
       "      <th>1</th>\n",
       "      <td>0</td>\n",
       "      <td>3</td>\n",
       "      <td>Mr. Owen Harris</td>\n",
       "      <td>male</td>\n",
       "      <td>22.0</td>\n",
       "      <td>1</td>\n",
       "      <td>0</td>\n",
       "      <td>A/5 21171</td>\n",
       "      <td>7.2500</td>\n",
       "      <td>NaN</td>\n",
       "      <td>S</td>\n",
       "    </tr>\n",
       "    <tr>\n",
       "      <th>2</th>\n",
       "      <td>1</td>\n",
       "      <td>1</td>\n",
       "      <td>Mrs. John Bradley (Florence Briggs Thayer)</td>\n",
       "      <td>female</td>\n",
       "      <td>38.0</td>\n",
       "      <td>1</td>\n",
       "      <td>0</td>\n",
       "      <td>PC 17599</td>\n",
       "      <td>71.2833</td>\n",
       "      <td>C85</td>\n",
       "      <td>C</td>\n",
       "    </tr>\n",
       "    <tr>\n",
       "      <th>3</th>\n",
       "      <td>1</td>\n",
       "      <td>3</td>\n",
       "      <td>Miss. Laina</td>\n",
       "      <td>female</td>\n",
       "      <td>26.0</td>\n",
       "      <td>0</td>\n",
       "      <td>0</td>\n",
       "      <td>STON/O2. 3101282</td>\n",
       "      <td>7.9250</td>\n",
       "      <td>NaN</td>\n",
       "      <td>S</td>\n",
       "    </tr>\n",
       "    <tr>\n",
       "      <th>4</th>\n",
       "      <td>1</td>\n",
       "      <td>1</td>\n",
       "      <td>Mrs. Jacques Heath (Lily May Peel)</td>\n",
       "      <td>female</td>\n",
       "      <td>35.0</td>\n",
       "      <td>1</td>\n",
       "      <td>0</td>\n",
       "      <td>113803</td>\n",
       "      <td>53.1000</td>\n",
       "      <td>C123</td>\n",
       "      <td>S</td>\n",
       "    </tr>\n",
       "    <tr>\n",
       "      <th>5</th>\n",
       "      <td>0</td>\n",
       "      <td>3</td>\n",
       "      <td>Mr. William Henry</td>\n",
       "      <td>male</td>\n",
       "      <td>35.0</td>\n",
       "      <td>0</td>\n",
       "      <td>0</td>\n",
       "      <td>373450</td>\n",
       "      <td>8.0500</td>\n",
       "      <td>NaN</td>\n",
       "      <td>S</td>\n",
       "    </tr>\n",
       "  </tbody>\n",
       "</table>\n",
       "</div>"
      ],
      "text/plain": [
       "             Survived  Pclass                                        Name  \\\n",
       "PassengerId                                                                 \n",
       "1                   0       3                             Mr. Owen Harris   \n",
       "2                   1       1  Mrs. John Bradley (Florence Briggs Thayer)   \n",
       "3                   1       3                                 Miss. Laina   \n",
       "4                   1       1          Mrs. Jacques Heath (Lily May Peel)   \n",
       "5                   0       3                           Mr. William Henry   \n",
       "\n",
       "                Sex   Age  SibSp  Parch            Ticket     Fare Cabin  \\\n",
       "PassengerId                                                                \n",
       "1              male  22.0      1      0         A/5 21171   7.2500   NaN   \n",
       "2            female  38.0      1      0          PC 17599  71.2833   C85   \n",
       "3            female  26.0      0      0  STON/O2. 3101282   7.9250   NaN   \n",
       "4            female  35.0      1      0            113803  53.1000  C123   \n",
       "5              male  35.0      0      0            373450   8.0500   NaN   \n",
       "\n",
       "            Embarked  \n",
       "PassengerId           \n",
       "1                  S  \n",
       "2                  C  \n",
       "3                  S  \n",
       "4                  S  \n",
       "5                  S  "
      ]
     },
     "execution_count": 3,
     "metadata": {},
     "output_type": "execute_result"
    }
   ],
   "source": [
    "# inspect dataframe\n",
    "df.head()"
   ]
  },
  {
   "cell_type": "code",
   "execution_count": 5,
   "metadata": {
    "colab": {
     "base_uri": "https://localhost:8080/"
    },
    "id": "bRr_aXVG1mir",
    "outputId": "613e7c97-e9af-474d-82fc-68f795769b54",
    "slideshow": {
     "slide_type": "subslide"
    },
    "tags": []
   },
   "outputs": [
    {
     "name": "stdout",
     "output_type": "stream",
     "text": [
      "<class 'pandas.core.frame.DataFrame'>\n",
      "Int64Index: 891 entries, 1 to 891\n",
      "Data columns (total 11 columns):\n",
      " #   Column    Non-Null Count  Dtype  \n",
      "---  ------    --------------  -----  \n",
      " 0   Survived  891 non-null    int64  \n",
      " 1   Pclass    891 non-null    int64  \n",
      " 2   Name      891 non-null    object \n",
      " 3   Sex       891 non-null    object \n",
      " 4   Age       714 non-null    float64\n",
      " 5   SibSp     891 non-null    int64  \n",
      " 6   Parch     891 non-null    int64  \n",
      " 7   Ticket    891 non-null    object \n",
      " 8   Fare      891 non-null    float64\n",
      " 9   Cabin     204 non-null    object \n",
      " 10  Embarked  889 non-null    object \n",
      "dtypes: float64(2), int64(4), object(5)\n",
      "memory usage: 83.5+ KB\n"
     ]
    }
   ],
   "source": [
    "# checking column dtypes and non-null amount of values\n",
    "df.info()"
   ]
  },
  {
   "cell_type": "code",
   "execution_count": 6,
   "metadata": {
    "colab": {
     "base_uri": "https://localhost:8080/",
     "height": 300
    },
    "id": "k0Ywnlk11uuI",
    "outputId": "592cc29b-07a3-4f3c-ab10-28e36d0687c4",
    "slideshow": {
     "slide_type": "subslide"
    },
    "tags": []
   },
   "outputs": [
    {
     "data": {
      "text/html": [
       "<div>\n",
       "<style scoped>\n",
       "    .dataframe tbody tr th:only-of-type {\n",
       "        vertical-align: middle;\n",
       "    }\n",
       "\n",
       "    .dataframe tbody tr th {\n",
       "        vertical-align: top;\n",
       "    }\n",
       "\n",
       "    .dataframe thead th {\n",
       "        text-align: right;\n",
       "    }\n",
       "</style>\n",
       "<table border=\"1\" class=\"dataframe\">\n",
       "  <thead>\n",
       "    <tr style=\"text-align: right;\">\n",
       "      <th></th>\n",
       "      <th>Survived</th>\n",
       "      <th>Pclass</th>\n",
       "      <th>Age</th>\n",
       "      <th>SibSp</th>\n",
       "      <th>Parch</th>\n",
       "      <th>Fare</th>\n",
       "    </tr>\n",
       "  </thead>\n",
       "  <tbody>\n",
       "    <tr>\n",
       "      <th>count</th>\n",
       "      <td>891.000000</td>\n",
       "      <td>891.000000</td>\n",
       "      <td>714.000000</td>\n",
       "      <td>891.000000</td>\n",
       "      <td>891.000000</td>\n",
       "      <td>891.000000</td>\n",
       "    </tr>\n",
       "    <tr>\n",
       "      <th>mean</th>\n",
       "      <td>0.383838</td>\n",
       "      <td>2.308642</td>\n",
       "      <td>29.699118</td>\n",
       "      <td>0.523008</td>\n",
       "      <td>0.381594</td>\n",
       "      <td>32.204208</td>\n",
       "    </tr>\n",
       "    <tr>\n",
       "      <th>std</th>\n",
       "      <td>0.486592</td>\n",
       "      <td>0.836071</td>\n",
       "      <td>14.526497</td>\n",
       "      <td>1.102743</td>\n",
       "      <td>0.806057</td>\n",
       "      <td>49.693429</td>\n",
       "    </tr>\n",
       "    <tr>\n",
       "      <th>min</th>\n",
       "      <td>0.000000</td>\n",
       "      <td>1.000000</td>\n",
       "      <td>0.420000</td>\n",
       "      <td>0.000000</td>\n",
       "      <td>0.000000</td>\n",
       "      <td>0.000000</td>\n",
       "    </tr>\n",
       "    <tr>\n",
       "      <th>25%</th>\n",
       "      <td>0.000000</td>\n",
       "      <td>2.000000</td>\n",
       "      <td>20.125000</td>\n",
       "      <td>0.000000</td>\n",
       "      <td>0.000000</td>\n",
       "      <td>7.910400</td>\n",
       "    </tr>\n",
       "    <tr>\n",
       "      <th>50%</th>\n",
       "      <td>0.000000</td>\n",
       "      <td>3.000000</td>\n",
       "      <td>28.000000</td>\n",
       "      <td>0.000000</td>\n",
       "      <td>0.000000</td>\n",
       "      <td>14.454200</td>\n",
       "    </tr>\n",
       "    <tr>\n",
       "      <th>75%</th>\n",
       "      <td>1.000000</td>\n",
       "      <td>3.000000</td>\n",
       "      <td>38.000000</td>\n",
       "      <td>1.000000</td>\n",
       "      <td>0.000000</td>\n",
       "      <td>31.000000</td>\n",
       "    </tr>\n",
       "    <tr>\n",
       "      <th>max</th>\n",
       "      <td>1.000000</td>\n",
       "      <td>3.000000</td>\n",
       "      <td>80.000000</td>\n",
       "      <td>8.000000</td>\n",
       "      <td>6.000000</td>\n",
       "      <td>512.329200</td>\n",
       "    </tr>\n",
       "  </tbody>\n",
       "</table>\n",
       "</div>"
      ],
      "text/plain": [
       "         Survived      Pclass         Age       SibSp       Parch        Fare\n",
       "count  891.000000  891.000000  714.000000  891.000000  891.000000  891.000000\n",
       "mean     0.383838    2.308642   29.699118    0.523008    0.381594   32.204208\n",
       "std      0.486592    0.836071   14.526497    1.102743    0.806057   49.693429\n",
       "min      0.000000    1.000000    0.420000    0.000000    0.000000    0.000000\n",
       "25%      0.000000    2.000000   20.125000    0.000000    0.000000    7.910400\n",
       "50%      0.000000    3.000000   28.000000    0.000000    0.000000   14.454200\n",
       "75%      1.000000    3.000000   38.000000    1.000000    0.000000   31.000000\n",
       "max      1.000000    3.000000   80.000000    8.000000    6.000000  512.329200"
      ]
     },
     "execution_count": 6,
     "metadata": {},
     "output_type": "execute_result"
    }
   ],
   "source": [
    "# inspect summary of central tendency and dispersion of numerical variables\n",
    "df.describe()"
   ]
  },
  {
   "cell_type": "markdown",
   "metadata": {
    "id": "enlKer6x2Jgw",
    "slideshow": {
     "slide_type": "slide"
    },
    "tags": []
   },
   "source": [
    "# Part 1: Basic Exploratory Analysis"
   ]
  },
  {
   "cell_type": "markdown",
   "metadata": {
    "id": "mOmyNINU2N0k",
    "slideshow": {
     "slide_type": "slide"
    },
    "tags": []
   },
   "source": [
    "## Question 1\n",
    "Read the dataset correctly using pandas, using an appropriate column as index. What is the PassengerId of \"Mr. Robert William Norman\"?"
   ]
  },
  {
   "cell_type": "code",
   "execution_count": 7,
   "metadata": {
    "id": "UCS8SMr12P7R"
   },
   "outputs": [],
   "source": [
    "passenger_id = df.loc[df['Name']==\"Mr. Robert William Norman\"].index[0]"
   ]
  },
  {
   "cell_type": "code",
   "execution_count": 8,
   "metadata": {
    "colab": {
     "base_uri": "https://localhost:8080/"
    },
    "id": "GU7gYXxT2TWd",
    "outputId": "ce1beb37-9832-471b-f1ba-6564a25ea4dc"
   },
   "outputs": [
    {
     "name": "stdout",
     "output_type": "stream",
     "text": [
      "Passenger ID for Mr. Robert William Norman is : 235\n"
     ]
    }
   ],
   "source": [
    "print(\"Passenger ID for Mr. Robert William Norman is :\", passenger_id)"
   ]
  },
  {
   "cell_type": "markdown",
   "metadata": {
    "id": "SAmEZGi23KE1",
    "slideshow": {
     "slide_type": "slide"
    },
    "tags": []
   },
   "source": [
    "## Question 2\n",
    "Compute the percentage of survivors out of total number of passengers and the percentage of men and women out of total number of passengers."
   ]
  },
  {
   "cell_type": "code",
   "execution_count": 9,
   "metadata": {
    "id": "a9M4sxoE3Kbv",
    "tags": []
   },
   "outputs": [],
   "source": [
    "total_number_people = df.shape[0]"
   ]
  },
  {
   "cell_type": "code",
   "execution_count": 10,
   "metadata": {
    "id": "YiHLxMzH3MN8"
   },
   "outputs": [],
   "source": [
    "people_survived = df['Survived'].value_counts().loc[1]"
   ]
  },
  {
   "cell_type": "code",
   "execution_count": 11,
   "metadata": {
    "colab": {
     "base_uri": "https://localhost:8080/"
    },
    "id": "hlz3ZFrW4C01",
    "outputId": "b579210e-3ef7-4827-c3a6-327e2440a327"
   },
   "outputs": [
    {
     "name": "stdout",
     "output_type": "stream",
     "text": [
      "Survivors out of total number of passengers: 38.38 %\n"
     ]
    }
   ],
   "source": [
    "# % survivors out of total number of passengers\n",
    "percentage_survivors = people_survived / total_number_people * 100\n",
    "print(\"Survivors out of total number of passengers:\", percentage_survivors.round(2), \"%\")"
   ]
  },
  {
   "cell_type": "code",
   "execution_count": 12,
   "metadata": {
    "id": "zQ4J3cfm4vUW",
    "slideshow": {
     "slide_type": "subslide"
    },
    "tags": []
   },
   "outputs": [],
   "source": [
    "num_men = df['Sex'].value_counts().loc[\"male\"]\n",
    "num_women = df['Sex'].value_counts().loc[\"female\"]"
   ]
  },
  {
   "cell_type": "code",
   "execution_count": 13,
   "metadata": {
    "colab": {
     "base_uri": "https://localhost:8080/"
    },
    "id": "QsUx4gGn5eg9",
    "outputId": "dfaa2a64-7e27-4c76-90cd-5b812d639f50"
   },
   "outputs": [
    {
     "name": "stdout",
     "output_type": "stream",
     "text": [
      "% of men out of total number of passengers: 64.76 %\n",
      "% of women out of total number of passengers: 35.24 %\n"
     ]
    }
   ],
   "source": [
    "# % of men out of total number of passengers\n",
    "percentage_men = num_men / total_number_people * 100\n",
    "print(\"% of men out of total number of passengers:\", percentage_men.round(2), \"%\")\n",
    "\n",
    "# % of women out of total number of passengers\n",
    "percentage_women = num_women / total_number_people * 100\n",
    "print(\"% of women out of total number of passengers:\", percentage_women.round(2), \"%\")"
   ]
  },
  {
   "cell_type": "markdown",
   "metadata": {
    "id": "0vIby0W06kUk",
    "slideshow": {
     "slide_type": "slide"
    },
    "tags": []
   },
   "source": [
    "## Question 3\n",
    "Compute the percentage of survivors by sex (i.e. the percentage of male passengers that survived and female passengers that survived) and the sex distribution of survivors (i.e. percentage of survivors that were men and percentage of survivors that were women)."
   ]
  },
  {
   "cell_type": "code",
   "execution_count": 14,
   "metadata": {
    "id": "mvgNYDvB6FHq"
   },
   "outputs": [],
   "source": [
    "num_men_survived = df.loc[df['Sex']==\"male\"][\"Survived\"].value_counts().loc[1]\n",
    "num_women_survived = df.loc[df['Sex']==\"female\"][\"Survived\"].value_counts().loc[1]"
   ]
  },
  {
   "cell_type": "code",
   "execution_count": 15,
   "metadata": {
    "colab": {
     "base_uri": "https://localhost:8080/"
    },
    "id": "PJLP7ikU6Ffo",
    "outputId": "ec756920-6a41-4d4c-d945-442caa4267d8"
   },
   "outputs": [
    {
     "name": "stdout",
     "output_type": "stream",
     "text": [
      "% of male passengers that survived 18.89 %\n",
      "% of female passengers that survived 74.2 %\n"
     ]
    }
   ],
   "source": [
    "# % of male that survived\n",
    "percentage_men_survivors = num_men_survived / num_men * 100\n",
    "print(\"% of male passengers that survived\", percentage_men_survivors.round(2), \"%\")\n",
    "\n",
    "# % of female that survived\n",
    "percentage_women_survivors = num_women_survived / num_women * 100\n",
    "print(\"% of female passengers that survived\", percentage_women_survivors.round(2), \"%\")"
   ]
  },
  {
   "cell_type": "code",
   "execution_count": 16,
   "metadata": {
    "colab": {
     "base_uri": "https://localhost:8080/"
    },
    "id": "1eC95mtT6Q3i",
    "outputId": "c23729f4-1f6a-4ec3-a88f-4d0bb980029f",
    "slideshow": {
     "slide_type": "subslide"
    },
    "tags": []
   },
   "outputs": [
    {
     "name": "stdout",
     "output_type": "stream",
     "text": [
      "% of survivors that were men: 31.87\n",
      "% of survivors that were women: 68.13\n"
     ]
    }
   ],
   "source": [
    "# % of survivors that were men\n",
    "percentage_survivor_men = num_men_survived / people_survived * 100\n",
    "print(\"% of survivors that were men:\", percentage_survivor_men.round(2))\n",
    "\n",
    "# % of survivors that were women\n",
    "percentage_survivor_women = num_women_survived / people_survived * 100\n",
    "print(\"% of survivors that were women:\", percentage_survivor_women.round(2))"
   ]
  },
  {
   "cell_type": "markdown",
   "metadata": {
    "id": "BU4-GH904DhI",
    "slideshow": {
     "slide_type": "slide"
    },
    "tags": []
   },
   "source": [
    "## Question 4\n",
    "Display in a 2 x 2 DataFrame the probability of being male/female and surviving/not surviving."
   ]
  },
  {
   "cell_type": "code",
   "execution_count": 57,
   "metadata": {
    "colab": {
     "base_uri": "https://localhost:8080/",
     "height": 143
    },
    "id": "EN0UMa024GiK",
    "outputId": "99510854-2f17-45a1-b7e9-82bfede61d71",
    "tags": []
   },
   "outputs": [
    {
     "name": "stdout",
     "output_type": "stream",
     "text": [
      "Survived  Survived  Not Survived\n",
      "Sex                             \n",
      "female    0.261504      0.090909\n",
      "male      0.122334      0.525253\n"
     ]
    }
   ],
   "source": [
    "print(df.groupby([\"Sex\", \"Survived\"]).size().div(len(df)).unstack().rename(columns={0: \"Not Survived\", 1: \"Survived\"}).iloc[:, ::-1].to_string())"
   ]
  },
  {
   "cell_type": "markdown",
   "metadata": {
    "id": "s3OrvV8G7X1X",
    "slideshow": {
     "slide_type": "slide"
    },
    "tags": []
   },
   "source": [
    "## Question 5\n",
    "Display in a DataFrame the probability of survival/not survival of all combinations of sex and class."
   ]
  },
  {
   "cell_type": "code",
   "execution_count": 19,
   "metadata": {
    "colab": {
     "base_uri": "https://localhost:8080/",
     "height": 269
    },
    "id": "IfaWskQj4I_8",
    "outputId": "c527c5cc-61db-446a-995f-398db4fb4c31"
   },
   "outputs": [
    {
     "name": "stdout",
     "output_type": "stream",
     "text": [
      "Survived       Survived  Not Survived\n",
      "Sex    Pclass                        \n",
      "female 1       0.102132      0.003367\n",
      "       2       0.078563      0.006734\n",
      "       3       0.080808      0.080808\n",
      "male   1       0.050505      0.086420\n",
      "       2       0.019080      0.102132\n",
      "       3       0.052750      0.336700\n"
     ]
    }
   ],
   "source": [
    "print(df.groupby([\"Sex\", \"Pclass\", \"Survived\"]).size().div(len(df)).unstack().rename(columns={0: \"Not Survived\", 1: \"Survived\"}).iloc[:, ::-1].to_string())"
   ]
  },
  {
   "cell_type": "markdown",
   "metadata": {
    "id": "GQeC-az4u-q1",
    "slideshow": {
     "slide_type": "slide"
    },
    "tags": []
   },
   "source": [
    "# Part II: Insights and Imputation"
   ]
  },
  {
   "cell_type": "markdown",
   "metadata": {
    "id": "IQgsw0GFbRvi",
    "slideshow": {
     "slide_type": "slide"
    },
    "tags": []
   },
   "source": [
    "# Question 6"
   ]
  },
  {
   "cell_type": "markdown",
   "metadata": {
    "id": "23FXkFTSvDHL"
   },
   "source": [
    "## Insights\n",
    "1. What percentage of children survived per class? (Age, Survived, Class)\n",
    "2. What is the percentage of men that have unknown cabins per fare tier? (Cabins, Fare, Sex)\n",
    "3. How much do women pay more or less than men depending on the port? (Sex, Embarked, Fare)"
   ]
  },
  {
   "cell_type": "markdown",
   "metadata": {
    "id": "t6Tq6vZYbTHi",
    "slideshow": {
     "slide_type": "slide"
    },
    "tags": []
   },
   "source": [
    "#### 1. What percentage of children survived per class? (Age, Survived, Class)"
   ]
  },
  {
   "cell_type": "code",
   "execution_count": 20,
   "metadata": {},
   "outputs": [],
   "source": [
    "# select dataframe for children only (age lower than 18)\n",
    "\n",
    "df_under_18_df = df.loc[df[\"Age\"] < 18]"
   ]
  },
  {
   "cell_type": "code",
   "execution_count": 21,
   "metadata": {},
   "outputs": [],
   "source": [
    "# group by Pclass and Survived to check percentage of kids that survived per class.\n",
    "\n",
    "percentage_child_survivors_per_class = df_under_18_df.groupby(\"Pclass\")[\"Survived\"].mean().round(4)*100"
   ]
  },
  {
   "cell_type": "code",
   "execution_count": 22,
   "metadata": {},
   "outputs": [
    {
     "data": {
      "text/plain": [
       "Pclass\n",
       "1    91.67\n",
       "2    91.30\n",
       "3    37.18\n",
       "Name: Survived, dtype: float64"
      ]
     },
     "execution_count": 22,
     "metadata": {},
     "output_type": "execute_result"
    }
   ],
   "source": [
    "percentage_child_survivors_per_class"
   ]
  },
  {
   "cell_type": "code",
   "execution_count": 23,
   "metadata": {
    "slideshow": {
     "slide_type": "subslide"
    },
    "tags": []
   },
   "outputs": [
    {
     "name": "stdout",
     "output_type": "stream",
     "text": [
      "1st class had the largest percentage of child survivors,  91.67 %, followed by 2nd class with 91.3 %, followed by 3rd class with, 37.18 %.\n"
     ]
    }
   ],
   "source": [
    "# output\n",
    "\n",
    "print(\"1st class had the largest percentage of child survivors, \", \n",
    "      percentage_child_survivors_per_class[1], \n",
    "      \"%, followed by 2nd class with\", \n",
    "      percentage_child_survivors_per_class[2], \n",
    "      \"%, followed by 3rd class with,\", \n",
    "      percentage_child_survivors_per_class[3],\n",
    "      \"%.\"\n",
    "     )\n"
   ]
  },
  {
   "cell_type": "markdown",
   "metadata": {
    "slideshow": {
     "slide_type": "slide"
    },
    "tags": []
   },
   "source": [
    "#### 2. What is the percentage of men that have unknown cabins per fare tier? (Cabins, Fare, Sex)"
   ]
  },
  {
   "cell_type": "code",
   "execution_count": 24,
   "metadata": {},
   "outputs": [],
   "source": [
    "# create a dataframe for men\n",
    "\n",
    "df_men = df.loc[df['Sex']=='male'].copy()"
   ]
  },
  {
   "cell_type": "code",
   "execution_count": 25,
   "metadata": {},
   "outputs": [],
   "source": [
    "# maximum fare \n",
    "\n",
    "fare_max = df_men[\"Fare\"].max()"
   ]
  },
  {
   "cell_type": "code",
   "execution_count": 26,
   "metadata": {},
   "outputs": [],
   "source": [
    "# minimum fare \n",
    "\n",
    "fare_min = df_men[\"Fare\"].min()"
   ]
  },
  {
   "cell_type": "code",
   "execution_count": 27,
   "metadata": {
    "slideshow": {
     "slide_type": "subslide"
    },
    "tags": []
   },
   "outputs": [
    {
     "data": {
      "text/plain": [
       "{1: 128.0823, 2: 256.1646, 3: 384.2469, 4: 512.3292}"
      ]
     },
     "execution_count": 27,
     "metadata": {},
     "output_type": "execute_result"
    }
   ],
   "source": [
    "# creating bins for the fare tiers \n",
    "\n",
    "fare_bins_upper_limit = {}\n",
    "for i in range(1,5):\n",
    "    fare_bins_upper_limit[i] = i * (fare_max / 4)\n",
    "\n",
    "fare_bins_upper_limit"
   ]
  },
  {
   "cell_type": "code",
   "execution_count": 28,
   "metadata": {},
   "outputs": [],
   "source": [
    "# setting conditions that will be applied to the dataframe\n",
    "\n",
    "conditions = [\n",
    "    (df_men[\"Fare\"] <= fare_bins_upper_limit[1]),\n",
    "    (df_men[\"Fare\"] > fare_bins_upper_limit[1]) & (df_men[\"Fare\"] <= fare_bins_upper_limit[2]),\n",
    "    (df_men[\"Fare\"] > fare_bins_upper_limit[2]) & (df_men[\"Fare\"] <= fare_bins_upper_limit[3]),\n",
    "    (df_men[\"Fare\"] > fare_bins_upper_limit[3]) & (df_men[\"Fare\"] <= fare_bins_upper_limit[4])\n",
    "    ]"
   ]
  },
  {
   "cell_type": "code",
   "execution_count": 29,
   "metadata": {
    "slideshow": {
     "slide_type": "subslide"
    },
    "tags": []
   },
   "outputs": [],
   "source": [
    "# setting values that will be imputed if matching condition is met\n",
    "\n",
    "values = ['tier_1', 'tier_2', 'tier_3', 'tier_4']"
   ]
  },
  {
   "cell_type": "code",
   "execution_count": 30,
   "metadata": {},
   "outputs": [],
   "source": [
    "# use np.select to use the conditions and values and create new column \"FareTier\"\n",
    "\n",
    "df_men['FareTier'] = np.select(conditions, values)"
   ]
  },
  {
   "cell_type": "code",
   "execution_count": 31,
   "metadata": {},
   "outputs": [],
   "source": [
    "# creating table for number of null cabins per fare tier \n",
    "\n",
    "num_null_cabins_per_fare_tier = df_men.groupby(\"FareTier\")[\"Cabin\"].apply(lambda x: x.isnull().sum())"
   ]
  },
  {
   "cell_type": "code",
   "execution_count": 32,
   "metadata": {
    "slideshow": {
     "slide_type": "subslide"
    },
    "tags": []
   },
   "outputs": [],
   "source": [
    "# creating table for number of total cabins per fare tier \n",
    "\n",
    "num_total_cabins_per_fare_tier = (df_men.groupby(\"FareTier\")[\"Cabin\"].size())"
   ]
  },
  {
   "cell_type": "code",
   "execution_count": 33,
   "metadata": {},
   "outputs": [],
   "source": [
    "# calculating ratio of null cabins to total cabins per fare tier \n",
    "\n",
    "fare_tier_percentage = (num_null_cabins_per_fare_tier / num_total_cabins_per_fare_tier).round(4)*100"
   ]
  },
  {
   "cell_type": "code",
   "execution_count": 34,
   "metadata": {},
   "outputs": [
    {
     "data": {
      "text/plain": [
       "FareTier\n",
       "tier_1    82.65\n",
       "tier_2    37.50\n",
       "tier_3     0.00\n",
       "tier_4     0.00\n",
       "Name: Cabin, dtype: float64"
      ]
     },
     "execution_count": 34,
     "metadata": {},
     "output_type": "execute_result"
    }
   ],
   "source": [
    "fare_tier_percentage"
   ]
  },
  {
   "cell_type": "code",
   "execution_count": 35,
   "metadata": {
    "slideshow": {
     "slide_type": "subslide"
    },
    "tags": []
   },
   "outputs": [
    {
     "name": "stdout",
     "output_type": "stream",
     "text": [
      "82.65 % of men with a ticket costing less than 128.08 have unknown cabins.\n",
      "37.5 % of men with a ticket costing between 128.08 and 256.16 have unknown cabins.\n",
      "0.0 % of men with a ticket costing between 256.16 and 384.25 have unknown cabins.\n",
      "0.0 % of men with a ticket costing between 256.16 and 384.25 have unknown cabins.\n"
     ]
    }
   ],
   "source": [
    "#output\n",
    "\n",
    "print(fare_tier_percentage[0],\n",
    "      \"% of men with a ticket costing less than\",\n",
    "      round(fare_bins_upper_limit[1],2),\n",
    "      \"have unknown cabins.\"\n",
    "     )\n",
    "print(fare_tier_percentage[1],\n",
    "      \"% of men with a ticket costing between\",\n",
    "      round(fare_bins_upper_limit[1],2),\n",
    "      \"and\",\n",
    "      round(fare_bins_upper_limit[2],2),\n",
    "      \"have unknown cabins.\"\n",
    "     )\n",
    "print(fare_tier_percentage[2],\n",
    "      \"% of men with a ticket costing between\",\n",
    "      round(fare_bins_upper_limit[2],2),\n",
    "      \"and\",\n",
    "      round(fare_bins_upper_limit[3],2),\n",
    "      \"have unknown cabins.\"\n",
    "     )\n",
    "print(fare_tier_percentage[2],\n",
    "      \"% of men with a ticket costing between\",\n",
    "      round(fare_bins_upper_limit[2],2),\n",
    "      \"and\",\n",
    "      round(fare_bins_upper_limit[3],2),\n",
    "      \"have unknown cabins.\"\n",
    "     )"
   ]
  },
  {
   "cell_type": "code",
   "execution_count": 79,
   "metadata": {
    "slideshow": {
     "slide_type": "subslide"
    },
    "tags": []
   },
   "outputs": [
    {
     "name": "stdout",
     "output_type": "stream",
     "text": [
      "The lower the fare paid by men, the greater the percentage of unknown cabins.\n"
     ]
    }
   ],
   "source": [
    "print(\"The lower the fare paid by men, the greater the percentage of unknown cabins.\")"
   ]
  },
  {
   "cell_type": "markdown",
   "metadata": {
    "slideshow": {
     "slide_type": "slide"
    },
    "tags": []
   },
   "source": [
    "#### 3. How much more or less do women pay on average than men depending on the port at which they embarked? (Sex, Embarked, Fare)"
   ]
  },
  {
   "cell_type": "code",
   "execution_count": 36,
   "metadata": {},
   "outputs": [
    {
     "data": {
      "text/html": [
       "<div>\n",
       "<style scoped>\n",
       "    .dataframe tbody tr th:only-of-type {\n",
       "        vertical-align: middle;\n",
       "    }\n",
       "\n",
       "    .dataframe tbody tr th {\n",
       "        vertical-align: top;\n",
       "    }\n",
       "\n",
       "    .dataframe thead th {\n",
       "        text-align: right;\n",
       "    }\n",
       "</style>\n",
       "<table border=\"1\" class=\"dataframe\">\n",
       "  <thead>\n",
       "    <tr style=\"text-align: right;\">\n",
       "      <th>Embarked</th>\n",
       "      <th>C</th>\n",
       "      <th>Q</th>\n",
       "      <th>S</th>\n",
       "    </tr>\n",
       "    <tr>\n",
       "      <th>Sex</th>\n",
       "      <th></th>\n",
       "      <th></th>\n",
       "      <th></th>\n",
       "    </tr>\n",
       "  </thead>\n",
       "  <tbody>\n",
       "    <tr>\n",
       "      <th>female</th>\n",
       "      <td>75.169805</td>\n",
       "      <td>12.634958</td>\n",
       "      <td>38.740929</td>\n",
       "    </tr>\n",
       "    <tr>\n",
       "      <th>male</th>\n",
       "      <td>48.262109</td>\n",
       "      <td>13.838922</td>\n",
       "      <td>21.711996</td>\n",
       "    </tr>\n",
       "  </tbody>\n",
       "</table>\n",
       "</div>"
      ],
      "text/plain": [
       "Embarked          C          Q          S\n",
       "Sex                                      \n",
       "female    75.169805  12.634958  38.740929\n",
       "male      48.262109  13.838922  21.711996"
      ]
     },
     "execution_count": 36,
     "metadata": {},
     "output_type": "execute_result"
    }
   ],
   "source": [
    "# pivot tabke to compare Sex and Embarked in terms of Fare \n",
    "\n",
    "avg_fare_per_sex_and_port = df.loc[df[\"Embarked\"].notnull()].pivot_table(\n",
    "    index=\"Sex\",\n",
    "    columns=\"Embarked\",\n",
    "    values=\"Fare\",\n",
    "    aggfunc=\"mean\", \n",
    ")\n",
    "\n",
    "avg_fare_per_sex_and_port"
   ]
  },
  {
   "cell_type": "code",
   "execution_count": 37,
   "metadata": {
    "slideshow": {
     "slide_type": "subslide"
    },
    "tags": []
   },
   "outputs": [
    {
     "name": "stdout",
     "output_type": "stream",
     "text": [
      "Women embarking at port C pay on average 26.91 more than men embarking at the same port.\n",
      "Women embarking at port Q pay on average 1.2 less than men embarking at the same port.\n",
      "Women embarking at port S pay on average 17.03 more than men embarking at the same port.\n"
     ]
    }
   ],
   "source": [
    "print(\"Women embarking at port C pay on average\",\n",
    "      round((avg_fare_per_sex_and_port.iloc[0,0] - avg_fare_per_sex_and_port.iloc[1,0]),2),\n",
    "      \"more than men embarking at the same port.\")\n",
    "print(\"Women embarking at port Q pay on average\",\n",
    "      round((avg_fare_per_sex_and_port.iloc[1,1] - avg_fare_per_sex_and_port.iloc[0,1]),2),\n",
    "      \"less than men embarking at the same port.\")\n",
    "print(\"Women embarking at port S pay on average\",\n",
    "      round((avg_fare_per_sex_and_port.iloc[0,2] - avg_fare_per_sex_and_port.iloc[1,2]),2),\n",
    "      \"more than men embarking at the same port.\")"
   ]
  },
  {
   "cell_type": "markdown",
   "metadata": {
    "id": "Yc-R-Gw6bWqY",
    "slideshow": {
     "slide_type": "slide"
    },
    "tags": []
   },
   "source": [
    "# Question 7\n",
    "Devise two distinct strategies to impute the missing values in the Age column."
   ]
  },
  {
   "cell_type": "markdown",
   "metadata": {
    "slideshow": {
     "slide_type": "slide"
    },
    "tags": []
   },
   "source": [
    "#### First Strategy \n",
    "We can assume that male and female passengers will have different mean ages depending on their Pclass. \n",
    "We will therefore impute age based on Sex+PClass mean ages for men and women. "
   ]
  },
  {
   "cell_type": "code",
   "execution_count": 38,
   "metadata": {},
   "outputs": [],
   "source": [
    "# creating a new dataframe to check that the imputing works \n",
    "\n",
    "df1 = df"
   ]
  },
  {
   "cell_type": "code",
   "execution_count": 39,
   "metadata": {},
   "outputs": [],
   "source": [
    "male_female_mean_ages = df1.groupby(['Pclass','Sex' ])['Age'].mean().unstack()"
   ]
  },
  {
   "cell_type": "code",
   "execution_count": 40,
   "metadata": {},
   "outputs": [
    {
     "data": {
      "text/html": [
       "<div>\n",
       "<style scoped>\n",
       "    .dataframe tbody tr th:only-of-type {\n",
       "        vertical-align: middle;\n",
       "    }\n",
       "\n",
       "    .dataframe tbody tr th {\n",
       "        vertical-align: top;\n",
       "    }\n",
       "\n",
       "    .dataframe thead th {\n",
       "        text-align: right;\n",
       "    }\n",
       "</style>\n",
       "<table border=\"1\" class=\"dataframe\">\n",
       "  <thead>\n",
       "    <tr style=\"text-align: right;\">\n",
       "      <th>Sex</th>\n",
       "      <th>female</th>\n",
       "      <th>male</th>\n",
       "    </tr>\n",
       "    <tr>\n",
       "      <th>Pclass</th>\n",
       "      <th></th>\n",
       "      <th></th>\n",
       "    </tr>\n",
       "  </thead>\n",
       "  <tbody>\n",
       "    <tr>\n",
       "      <th>1</th>\n",
       "      <td>34.611765</td>\n",
       "      <td>41.281386</td>\n",
       "    </tr>\n",
       "    <tr>\n",
       "      <th>2</th>\n",
       "      <td>28.722973</td>\n",
       "      <td>30.740707</td>\n",
       "    </tr>\n",
       "    <tr>\n",
       "      <th>3</th>\n",
       "      <td>21.750000</td>\n",
       "      <td>26.507589</td>\n",
       "    </tr>\n",
       "  </tbody>\n",
       "</table>\n",
       "</div>"
      ],
      "text/plain": [
       "Sex        female       male\n",
       "Pclass                      \n",
       "1       34.611765  41.281386\n",
       "2       28.722973  30.740707\n",
       "3       21.750000  26.507589"
      ]
     },
     "execution_count": 40,
     "metadata": {},
     "output_type": "execute_result"
    }
   ],
   "source": [
    "# we can see there are differences between mean ages for male and female depending on which class they were in\n",
    "\n",
    "male_female_mean_ages"
   ]
  },
  {
   "cell_type": "code",
   "execution_count": 41,
   "metadata": {
    "slideshow": {
     "slide_type": "subslide"
    },
    "tags": []
   },
   "outputs": [],
   "source": [
    "# assigning all values to variables for each group\n",
    "\n",
    "female_1 = male_female_mean_ages.loc[1, 'female'].round()\n",
    "male_1 = male_female_mean_ages.loc[1, 'male'].round()\n",
    "female_2 = male_female_mean_ages.loc[2, 'female'].round()\n",
    "male_2 = male_female_mean_ages.loc[2, 'male'].round()\n",
    "female_3 = male_female_mean_ages.loc[3, 'female'].round()\n",
    "male_3 = male_female_mean_ages.loc[3, 'male'].round()"
   ]
  },
  {
   "cell_type": "code",
   "execution_count": 42,
   "metadata": {},
   "outputs": [],
   "source": [
    "# replace NaN values by mean ages\n",
    "\n",
    "df1.loc[(df['Pclass']==1) & (df1['Sex']==\"female\") & (df['Age'].isna()), 'Age'] = female_1\n",
    "df1.loc[(df['Pclass']==1) & (df1['Sex']==\"male\") & (df['Age'].isna()), 'Age'] = male_1\n",
    "df1.loc[(df['Pclass']==2) & (df1['Sex']==\"female\") & (df['Age'].isna()), 'Age'] = female_2\n",
    "df1.loc[(df['Pclass']==2) & (df1['Sex']==\"male\") & (df['Age'].isna()), 'Age'] = male_2\n",
    "df1.loc[(df['Pclass']==3) & (df1['Sex']==\"female\") & (df['Age'].isna()), 'Age'] = female_3\n",
    "df1.loc[(df['Pclass']==3) & (df1['Sex']==\"male\") & (df['Age'].isna()), 'Age'] = male_3"
   ]
  },
  {
   "cell_type": "code",
   "execution_count": 55,
   "metadata": {},
   "outputs": [
    {
     "data": {
      "text/plain": [
       "False    891\n",
       "Name: Age, dtype: int64"
      ]
     },
     "execution_count": 55,
     "metadata": {},
     "output_type": "execute_result"
    }
   ],
   "source": [
    "#ensuring that there are no NaN values remaining\n",
    "\n",
    "df1[\"Age\"].isnull().value_counts()"
   ]
  },
  {
   "cell_type": "markdown",
   "metadata": {
    "slideshow": {
     "slide_type": "slide"
    },
    "tags": []
   },
   "source": [
    "#### Second Strategy\n",
    "Each imputed age will be the one of the passenger's title group mean age. "
   ]
  },
  {
   "cell_type": "code",
   "execution_count": 43,
   "metadata": {},
   "outputs": [],
   "source": [
    "#creating new dataframe to test strategy\n",
    "\n",
    "df2 = df"
   ]
  },
  {
   "cell_type": "code",
   "execution_count": 44,
   "metadata": {},
   "outputs": [],
   "source": [
    "#creating column 'Title' with every passenger's title\n",
    "\n",
    "df2['Title'] = df2['Name'].str.split().str[0]"
   ]
  },
  {
   "cell_type": "code",
   "execution_count": 45,
   "metadata": {},
   "outputs": [],
   "source": [
    "#create a table to access mean age per title group\n",
    "\n",
    "titles = df2.groupby('Title')['Age'].agg(['mean', 'count'])"
   ]
  },
  {
   "cell_type": "code",
   "execution_count": 46,
   "metadata": {
    "slideshow": {
     "slide_type": "subslide"
    },
    "tags": []
   },
   "outputs": [
    {
     "data": {
      "text/html": [
       "<div>\n",
       "<style scoped>\n",
       "    .dataframe tbody tr th:only-of-type {\n",
       "        vertical-align: middle;\n",
       "    }\n",
       "\n",
       "    .dataframe tbody tr th {\n",
       "        vertical-align: top;\n",
       "    }\n",
       "\n",
       "    .dataframe thead th {\n",
       "        text-align: right;\n",
       "    }\n",
       "</style>\n",
       "<table border=\"1\" class=\"dataframe\">\n",
       "  <thead>\n",
       "    <tr style=\"text-align: right;\">\n",
       "      <th></th>\n",
       "      <th>mean</th>\n",
       "      <th>count</th>\n",
       "    </tr>\n",
       "    <tr>\n",
       "      <th>Title</th>\n",
       "      <th></th>\n",
       "      <th></th>\n",
       "    </tr>\n",
       "  </thead>\n",
       "  <tbody>\n",
       "    <tr>\n",
       "      <th>Capt.</th>\n",
       "      <td>70.000000</td>\n",
       "      <td>1</td>\n",
       "    </tr>\n",
       "    <tr>\n",
       "      <th>Col.</th>\n",
       "      <td>58.000000</td>\n",
       "      <td>2</td>\n",
       "    </tr>\n",
       "    <tr>\n",
       "      <th>Don.</th>\n",
       "      <td>40.000000</td>\n",
       "      <td>1</td>\n",
       "    </tr>\n",
       "    <tr>\n",
       "      <th>Dr.</th>\n",
       "      <td>41.857143</td>\n",
       "      <td>7</td>\n",
       "    </tr>\n",
       "    <tr>\n",
       "      <th>Jonkheer.</th>\n",
       "      <td>38.000000</td>\n",
       "      <td>1</td>\n",
       "    </tr>\n",
       "    <tr>\n",
       "      <th>Lady.</th>\n",
       "      <td>48.000000</td>\n",
       "      <td>1</td>\n",
       "    </tr>\n",
       "    <tr>\n",
       "      <th>Major.</th>\n",
       "      <td>48.500000</td>\n",
       "      <td>2</td>\n",
       "    </tr>\n",
       "    <tr>\n",
       "      <th>Master.</th>\n",
       "      <td>6.816750</td>\n",
       "      <td>40</td>\n",
       "    </tr>\n",
       "    <tr>\n",
       "      <th>Miss.</th>\n",
       "      <td>21.967033</td>\n",
       "      <td>182</td>\n",
       "    </tr>\n",
       "    <tr>\n",
       "      <th>Mlle.</th>\n",
       "      <td>24.000000</td>\n",
       "      <td>2</td>\n",
       "    </tr>\n",
       "    <tr>\n",
       "      <th>Mme.</th>\n",
       "      <td>24.000000</td>\n",
       "      <td>1</td>\n",
       "    </tr>\n",
       "    <tr>\n",
       "      <th>Mr.</th>\n",
       "      <td>31.743714</td>\n",
       "      <td>517</td>\n",
       "    </tr>\n",
       "    <tr>\n",
       "      <th>Mrs.</th>\n",
       "      <td>34.840000</td>\n",
       "      <td>125</td>\n",
       "    </tr>\n",
       "    <tr>\n",
       "      <th>Ms.</th>\n",
       "      <td>28.000000</td>\n",
       "      <td>1</td>\n",
       "    </tr>\n",
       "    <tr>\n",
       "      <th>Rev.</th>\n",
       "      <td>43.166667</td>\n",
       "      <td>6</td>\n",
       "    </tr>\n",
       "    <tr>\n",
       "      <th>Sir.</th>\n",
       "      <td>49.000000</td>\n",
       "      <td>1</td>\n",
       "    </tr>\n",
       "    <tr>\n",
       "      <th>the</th>\n",
       "      <td>33.000000</td>\n",
       "      <td>1</td>\n",
       "    </tr>\n",
       "  </tbody>\n",
       "</table>\n",
       "</div>"
      ],
      "text/plain": [
       "                mean  count\n",
       "Title                      \n",
       "Capt.      70.000000      1\n",
       "Col.       58.000000      2\n",
       "Don.       40.000000      1\n",
       "Dr.        41.857143      7\n",
       "Jonkheer.  38.000000      1\n",
       "Lady.      48.000000      1\n",
       "Major.     48.500000      2\n",
       "Master.     6.816750     40\n",
       "Miss.      21.967033    182\n",
       "Mlle.      24.000000      2\n",
       "Mme.       24.000000      1\n",
       "Mr.        31.743714    517\n",
       "Mrs.       34.840000    125\n",
       "Ms.        28.000000      1\n",
       "Rev.       43.166667      6\n",
       "Sir.       49.000000      1\n",
       "the        33.000000      1"
      ]
     },
     "execution_count": 46,
     "metadata": {},
     "output_type": "execute_result"
    }
   ],
   "source": [
    "titles"
   ]
  },
  {
   "cell_type": "code",
   "execution_count": 47,
   "metadata": {
    "slideshow": {
     "slide_type": "subslide"
    },
    "tags": []
   },
   "outputs": [],
   "source": [
    "# loop through titles table index to assign mean value of age per title to dataframe\n",
    "\n",
    "for title in titles.index:\n",
    "    df2.loc[(df2['Title']==title) & (df2['Age'].isna()), 'Age'] = titles.loc[title,'mean'].round()"
   ]
  },
  {
   "cell_type": "code",
   "execution_count": 56,
   "metadata": {},
   "outputs": [
    {
     "data": {
      "text/plain": [
       "False    891\n",
       "Name: Age, dtype: int64"
      ]
     },
     "execution_count": 56,
     "metadata": {},
     "output_type": "execute_result"
    }
   ],
   "source": [
    "#ensuring that there are no NaN values remaining\n",
    "\n",
    "df2[\"Age\"].isnull().value_counts()"
   ]
  }
 ],
 "metadata": {
  "colab": {
   "provenance": []
  },
  "kernelspec": {
   "display_name": "Python 3 (ipykernel)",
   "language": "python",
   "name": "python3"
  },
  "language_info": {
   "codemirror_mode": {
    "name": "ipython",
    "version": 3
   },
   "file_extension": ".py",
   "mimetype": "text/x-python",
   "name": "python",
   "nbconvert_exporter": "python",
   "pygments_lexer": "ipython3",
   "version": "3.9.13"
  }
 },
 "nbformat": 4,
 "nbformat_minor": 4
}
